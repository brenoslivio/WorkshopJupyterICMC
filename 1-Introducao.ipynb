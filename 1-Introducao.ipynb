{
 "cells": [
  {
   "cell_type": "markdown",
   "metadata": {
    "colab_type": "text",
    "id": "view-in-github"
   },
   "source": [
    "<a href=\"https://colab.research.google.com/github/brenoslivio/WorkshopJupyterICMC/blob/main/1-Introducao.ipynb\" target=\"_parent\"><img src=\"https://colab.research.google.com/assets/colab-badge.svg\" alt=\"Open In Colab\"/></a>"
   ]
  },
  {
   "cell_type": "markdown",
   "metadata": {
    "id": "8GiD8fKkrJyV"
   },
   "source": [
    "# Jupyter: um caderno computacional"
   ]
  },
  {
   "cell_type": "markdown",
   "metadata": {
    "id": "9IaaIks9rJya"
   },
   "source": [
    "1ª Semana de Workshops, ICMC - USP, 03/06/2021\n",
    "\n",
    "Por Breno Lívio\n",
    "\n",
    "---\n",
    "\n",
    "*O workshop tem como o objetivo de introduzir o ambiente Jupyter e familiarizar estudantes oriundos do Instituto de Ciências Matemáticas e de Computação (ICMC) da Universidade de São Paulo (USP). Espera-se mostrar diversos exemplos de como esse caderno computacional pode ser utilizado, suas diferentes formas de usar, instalação e aplicações diversas.*"
   ]
  },
  {
   "cell_type": "markdown",
   "metadata": {
    "id": "XGnYtD4drJyb"
   },
   "source": [
    "## 1 - Familiarizando-se com o ambiente"
   ]
  },
  {
   "cell_type": "markdown",
   "metadata": {
    "id": "1DeoAJ3IrJyd"
   },
   "source": [
    "### Markdown"
   ]
  },
  {
   "cell_type": "markdown",
   "metadata": {
    "id": "fmygZdQMrJyd"
   },
   "source": [
    "Como já devem notar e perceber, os cadernos Jupyter são dividos em células de código e de texto. As células de texto utilizam da linguagem de marcação Markdown. Uma linguagem leve para formatação adequada de texto.\n",
    "\n",
    "```markdown\n",
    "# Isso deveria ser um Heading 1\n",
    "\n",
    "## Isso deveria ser um Heading 2\n",
    "```\n",
    "Podemos mostrar até mesmo imagens no Jupyter usando Markdown, por exemplo:\n",
    "\n",
    "```markdown\n",
    "![ICMC](http://www.icmc.usp.br/imprensa/_thumb1/icone-noticia.jpg)\n",
    "```\n",
    "\n",
    "![ICMC](http://www.icmc.usp.br/imprensa/_thumb1/icone-noticia.jpg)\n",
    "\n",
    "É possível mostrar snippets de código no próprio Markdown sem executar eles, que é o que estava acontecendo anteriormente. Então, por exemplo, para um código em Python:\n",
    "\n",
    "```python\n",
    "def foo(a):\n",
    "\n",
    "    a += 1\n",
    "\n",
    "    return a\n",
    "\n",
    "b = 2\n",
    "\n",
    "c = foo(b)\n",
    "```\n",
    "\n",
    "Para mais informações da sintaxe do Markdown veja [Markdown Cheat Sheet](https://www.markdownguide.org/cheat-sheet/)."
   ]
  },
  {
   "cell_type": "markdown",
   "metadata": {
    "id": "uiIMOGyArJye"
   },
   "source": [
    "### $\\LaTeX$"
   ]
  },
  {
   "cell_type": "markdown",
   "metadata": {
    "id": "p6HGOVRFrJyf"
   },
   "source": [
    "Podemos além do Markdown, usar de códigos em $\\LaTeX$ para gerar fórmulas elegantes.\n",
    "\n",
    "$$\\beta_{1} = \\frac{\\sum^{n}_{j=2}|a_{1j}|}{|a_{11}|}, \\qquad \\beta_{i} = \\frac{\\sum^{i - 1}_{j = 1}|a_{ij}|\\beta_{j} + \\sum^{n}_{j = i + 1}|a_{ij}|}{a_{ii}}$$\n",
    "\n",
    "Claro, o teorema de Bayes pode ser representado por:\n",
    "\n",
    "$$\\underbrace{P(B_i|A)}_{\\text{Posterior}}=\\frac{\\overbrace{P(A|B_i)}^{\\text{Likelihood}}\\overbrace{P(B_i)}^{\\text{Prior}}}{\\underbrace{\\displaystyle\\sum_{j = 1}^{n} P(A | B_j) P(B_j)}_{\\text{Evidence}}}$$\n",
    "\n",
    "O Jupyter utiliza da biblioteca em javascript MathJax para renderizar códigos em math/LaTeX."
   ]
  },
  {
   "cell_type": "markdown",
   "metadata": {
    "id": "XzM_J5w0rJyg"
   },
   "source": [
    "### Renderização em geral"
   ]
  },
  {
   "cell_type": "markdown",
   "metadata": {
    "id": "AQjDPg0BrJyg"
   },
   "source": [
    "É importante perceber que a forma de lidar com linguagens de marcação como Markdown e LaTeX depende da bibliotecas usadas em conjunto com o ambiente Jupyter com o fim de permitir a renderização adequada. Considerando a existência de extensões no Jupyter, são infinitas as possibilidades do que se reproduzir no caderno, permitindo até customizar o CSS do seu sistema Jupyter, ou seja, decorando o sistema em si. \n",
    "\n",
    "Vamos imprimir um código em HTML por código e ver o que é gerado no output:"
   ]
  },
  {
   "cell_type": "code",
   "execution_count": 1,
   "metadata": {
    "id": "7mc-wF9prJyi",
    "outputId": "2df72175-436c-4679-8ed7-59e6dfeeeeb7"
   },
   "outputs": [
    {
     "data": {
      "text/html": [
       "<ol><li>☑ Apresentar Workshop</li><li>☐ Comprar uns treco</li><li>☐ Dormir</li></ol>"
      ],
      "text/plain": [
       "<__main__.Todo at 0x7fbb3c5d0400>"
      ]
     },
     "execution_count": 1,
     "metadata": {},
     "output_type": "execute_result"
    }
   ],
   "source": [
    "from html import escape\n",
    "\n",
    "class Todo:\n",
    "    def __init__(self):\n",
    "        self.items = []\n",
    "\n",
    "    def add(self, text, completed):\n",
    "        self.items.append({'text': text, 'completed': completed})\n",
    "\n",
    "    def _repr_html_(self):\n",
    "        return \"<ol>{}</ol>\".format(\"\".join(\"<li>{} {}</li>\".format(\n",
    "            \"☑\" if item['completed'] else \"☐\",\n",
    "            escape(item['text'])\n",
    "        ) for item in self.items))\n",
    "\n",
    "todo = Todo()\n",
    "todo.add(\"Apresentar Workshop\", True)\n",
    "todo.add(\"Comprar uns treco\", False)\n",
    "todo.add(\"Dormir\", False)\n",
    "\n",
    "todo"
   ]
  },
  {
   "cell_type": "markdown",
   "metadata": {
    "id": "sBnXXts7rJym"
   },
   "source": [
    "### Códigos"
   ]
  },
  {
   "cell_type": "markdown",
   "metadata": {
    "id": "eCYanFfTrJyn"
   },
   "source": [
    "O Jupyter para rodar códigos depende do kernel que está sendo utilizado. No Jupyter baixado usando Docker vai perceber que vai ter a opção de utilizar do kernel para Python, Julia e R.\n",
    "\n",
    "Sobretudo, é importante pensar um caderno Jupyter representa um programa como um todo, ou seja, cada célula de código compõe esse programa.\n",
    "\n",
    "Então, por exemplo, ao fazermos o seguinte:"
   ]
  },
  {
   "cell_type": "code",
   "execution_count": 2,
   "metadata": {
    "id": "M-TR6BvMrJyn"
   },
   "outputs": [],
   "source": [
    "import numpy as np"
   ]
  },
  {
   "cell_type": "code",
   "execution_count": 3,
   "metadata": {
    "id": "AHzlpROOrJyo",
    "outputId": "8a2ac305-00e8-44e4-caf8-5548842a06b3"
   },
   "outputs": [
    {
     "data": {
      "text/plain": [
       "array([[1.0000000e+00, 0.0000000e+00, 0.0000000e+00],\n",
       "       [0.0000000e+00, 1.0000000e+00, 0.0000000e+00],\n",
       "       [0.0000000e+00, 4.4408921e-16, 1.0000000e+00]])"
      ]
     },
     "execution_count": 3,
     "metadata": {},
     "output_type": "execute_result"
    }
   ],
   "source": [
    "A = np.array([[4, 4, -1], \n",
    "            [2, -1, 0],\n",
    "            [5, -9, 0]])\n",
    "\n",
    "Ainv = np.linalg.inv(A)\n",
    "\n",
    "A @ Ainv"
   ]
  },
  {
   "cell_type": "markdown",
   "metadata": {
    "id": "Ka71yKkprJyo"
   },
   "source": [
    "Perceba que uma célula depende da outra. Na primeira célula foi importada a biblioteca `numpy` para se definir uma matriz e calcular sua matriz inversa. Se não houvesse a execução dela, teríamos erro.\n",
    "\n",
    "Ao abrir um notebook e se inicializar o kernel passamos a guardar variáveis e imports de bibliotecas que estão sendo usada, por isso é necessário e importante verificar a consistência do caderno executando todas as células desde o começo para verificar se a \"ordem\" está correta."
   ]
  },
  {
   "cell_type": "markdown",
   "metadata": {
    "id": "N4H-jrLsrJyp"
   },
   "source": [
    "### Células como um terminal"
   ]
  },
  {
   "cell_type": "markdown",
   "metadata": {
    "id": "uZvOIP8GrJyp"
   },
   "source": [
    "Por meio das células podemos também fazer comandos que fariamos apenas no terminal do Linux, por exemplo. Para transformar a célula inteira em um comando do terminal podemos usar `%%bash`."
   ]
  },
  {
   "cell_type": "code",
   "execution_count": 4,
   "metadata": {
    "id": "eHyNLjdQrJyp",
    "outputId": "ca16caca-51af-4955-eb79-db6918a130fb"
   },
   "outputs": [
    {
     "name": "stdout",
     "output_type": "stream",
     "text": [
      "Hello, ICMC!"
     ]
    }
   ],
   "source": [
    "%%bash\n",
    "head Files/hello.txt"
   ]
  },
  {
   "cell_type": "markdown",
   "metadata": {
    "id": "L_lmnO9wrJyq"
   },
   "source": [
    "Se quisermos usar apenas um simples comando, usamos o indicador `!` primeiramente."
   ]
  },
  {
   "cell_type": "code",
   "execution_count": 5,
   "metadata": {
    "id": "irfjiqe-rJyq",
    "outputId": "f1645d13-c7c0-4f05-964d-3bce0c167df9"
   },
   "outputs": [
    {
     "name": "stdout",
     "output_type": "stream",
     "text": [
      "Collecting some_package\n",
      "  Downloading some-package-0.1.zip (2.8 kB)\n",
      "Building wheels for collected packages: some-package\n",
      "  Building wheel for some-package (setup.py) ... \u001b[?25ldone\n",
      "\u001b[?25h  Created wheel for some-package: filename=some_package-0.1-py3-none-any.whl size=1441 sha256=55e85fa09058b9b7d9eed59e30e0ef35a3b8d554e4360be8e0061a69ee4e664a\n",
      "  Stored in directory: /home/jovyan/.cache/pip/wheels/39/e1/f7/042aed1cedc3cc3e32a49d15fbcb0cc69658090aef1875f529\n",
      "Successfully built some-package\n",
      "Installing collected packages: some-package\n",
      "Successfully installed some-package-0.1\n"
     ]
    }
   ],
   "source": [
    "!pip3 install some_package"
   ]
  },
  {
   "cell_type": "markdown",
   "metadata": {
    "id": "GlEl78Z3rJyq"
   },
   "source": [
    "### Comandos mágicos do IPython"
   ]
  },
  {
   "cell_type": "markdown",
   "metadata": {
    "id": "Fgz1F6KYrJyr"
   },
   "source": [
    "Como vimos anteriormente, o comando `%%bash` transformou a célula inteira como uma espécie de terminal. Comandos como esses são chamados \"comandos maǵicos\" que vieram do IPython. Existem comandos para [linha](https://ipython.readthedocs.io/en/stable/interactive/magics.html#line-magics) (com apenas um ´%´) e [célula](https://ipython.readthedocs.io/en/stable/interactive/magics.html#cell-magics) (com `%%`).\n",
    "\n",
    "Por exemplo, temos comandos para contar o tempo de execução de uma função:"
   ]
  },
  {
   "cell_type": "code",
   "execution_count": 6,
   "metadata": {
    "id": "3ep53ZTwrJys",
    "outputId": "a60a0fca-778c-4851-b13f-1dd65ccc26fc"
   },
   "outputs": [
    {
     "name": "stdout",
     "output_type": "stream",
     "text": [
      "2 s ± 332 µs per loop (mean ± std. dev. of 2 runs, 1 loop each)\n"
     ]
    }
   ],
   "source": [
    "import time\n",
    "\n",
    "%timeit -n1 -r2 time.sleep(2)"
   ]
  },
  {
   "cell_type": "markdown",
   "metadata": {
    "id": "Cos1XBOrrJys"
   },
   "source": [
    "Transformar em uma célula de $\\LaTeX$:"
   ]
  },
  {
   "cell_type": "code",
   "execution_count": 7,
   "metadata": {
    "id": "Hm7bM2NHrJys",
    "outputId": "b8de9d29-220e-47fe-aeed-12be388466e9"
   },
   "outputs": [
    {
     "data": {
      "text/latex": [
       "\n",
       "$\\int_{-\\infty}^{\\infty}2x^{5}dx$\n"
      ],
      "text/plain": [
       "<IPython.core.display.Latex object>"
      ]
     },
     "metadata": {},
     "output_type": "display_data"
    }
   ],
   "source": [
    "%%latex\n",
    "\n",
    "$\\int_{-\\infty}^{\\infty}2x^{5}dx$"
   ]
  },
  {
   "cell_type": "markdown",
   "metadata": {
    "id": "P0uJSUrorJyt"
   },
   "source": [
    "Transformar em uma célula de HTML:"
   ]
  },
  {
   "cell_type": "code",
   "execution_count": 8,
   "metadata": {
    "id": "m9Qm5qGOrJyt",
    "outputId": "79c3be42-ce5a-4283-c8d5-c3260841255c"
   },
   "outputs": [
    {
     "data": {
      "text/html": [
       "\n",
       " <img src=\"https://jupyter.org/assets/main-logo.svg\" alt=\"Jupyter\" width=\"400\" height=\"400\"> \n"
      ],
      "text/plain": [
       "<IPython.core.display.HTML object>"
      ]
     },
     "metadata": {},
     "output_type": "display_data"
    }
   ],
   "source": [
    "%%html\n",
    "\n",
    " <img src=\"https://jupyter.org/assets/main-logo.svg\" alt=\"Jupyter\" width=\"400\" height=\"400\"> "
   ]
  }
 ],
 "metadata": {
  "colab": {
   "include_colab_link": true,
   "name": "1-Introducao.ipynb",
   "provenance": [],
   "toc_visible": true
  },
  "kernelspec": {
   "display_name": "Python 3",
   "language": "python",
   "name": "python3"
  },
  "language_info": {
   "codemirror_mode": {
    "name": "ipython",
    "version": 3
   },
   "file_extension": ".py",
   "mimetype": "text/x-python",
   "name": "python",
   "nbconvert_exporter": "python",
   "pygments_lexer": "ipython3",
   "version": "3.9.2"
  }
 },
 "nbformat": 4,
 "nbformat_minor": 1
}
