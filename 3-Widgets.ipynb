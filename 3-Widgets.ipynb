{
 "metadata": {
  "language_info": {
   "codemirror_mode": {
    "name": "ipython",
    "version": 3
   },
   "file_extension": ".py",
   "mimetype": "text/x-python",
   "name": "python",
   "nbconvert_exporter": "python",
   "pygments_lexer": "ipython3",
   "version": "3.8.8"
  },
  "orig_nbformat": 2,
  "kernelspec": {
   "name": "python3",
   "display_name": "Python 3",
   "language": "python"
  }
 },
 "nbformat": 4,
 "nbformat_minor": 2,
 "cells": [
  {
   "source": [
    "# Jupyter: um caderno computacional"
   ],
   "cell_type": "markdown",
   "metadata": {}
  },
  {
   "source": [
    "1ª Semana de Workshops, ICMC - USP, 03/06/2021\n",
    "\n",
    "Por Breno Lívio\n",
    "\n",
    "---\n",
    "\n",
    "*O workshop tem como o objetivo de introduzir o ambiente Jupyter e familiarizar estudantes oriundos do Instituto de Ciências Matemáticas e de Computação (ICMC) da Universidade de São Paulo (USP). Espera-se mostrar diversos exemplos de como esse caderno computacional pode ser utilizado, suas diferentes formas de usar, instalação e aplicações diversas.*"
   ],
   "cell_type": "markdown",
   "metadata": {}
  },
  {
   "source": [
    "## 3 - Widgets"
   ],
   "cell_type": "markdown",
   "metadata": {}
  },
  {
   "source": [
    "A biblioteca de widget mais conhecida para o Jupyter é a ipywidgets, também conhecidos como jupyter-widgets ou simplesmente widgets, são widgets HTML interativos para notebooks Jupyter e o kernel IPython.\n",
    "\n",
    "Os notebooks ganham vida quando os widgets interativos são utilizados. Os usuários ganham o controle de seus dados e podem visualizar as mudanças nos dados.\n",
    "\n",
    "Vamos carregar um dataset de Pokémons:"
   ],
   "cell_type": "markdown",
   "metadata": {}
  },
  {
   "cell_type": "code",
   "execution_count": 2,
   "metadata": {},
   "outputs": [],
   "source": [
    "import plotly.express as px\n",
    "import plotly.graph_objects as go\n",
    "from plotly.subplots import make_subplots\n",
    "from ipywidgets import HBox, VBox, widgets, GridspecLayout, Layout, Label\n",
    "from ipywidgets import HTML as ipyHTML\n",
    "from ipywidgets import Image as ipyImage\n",
    "import pandas as pd\n",
    "import numpy as np\n",
    "import requests\n",
    "\n",
    "dfPokemon = pd.read_csv(\n",
    "    \"https://raw.githubusercontent.com/brenoslivio/SCC0652_Computationa\"\n",
    "    + \"l_Visualization/master/notebooks/Project-2/dfPokemon.csv\",\n",
    "    dtype={\n",
    "        \"cod\": str,\n",
    "        \"name\": str,\n",
    "        \"generation\": np.int32,\n",
    "        \"status\": str,\n",
    "        \"species\": str,\n",
    "        \"form\": str,\n",
    "        \"type1\": str,\n",
    "        \"type2\": str,\n",
    "        \"height_m\": np.float64,\n",
    "        \"weight_kg\": np.float64,\n",
    "        \"total\": np.int32,\n",
    "        \"hp\": np.int32,\n",
    "        \"attack\": np.int32,\n",
    "        \"defense\": np.int32,\n",
    "        \"spatk\": np.int32,\n",
    "        \"spdef\": np.int32,\n",
    "        \"speed\": np.int32,\n",
    "        \"img\": str,\n",
    "    },\n",
    "    na_values=\"\",\n",
    ")"
   ]
  },
  {
   "cell_type": "code",
   "execution_count": 3,
   "metadata": {},
   "outputs": [
    {
     "output_type": "display_data",
     "data": {
      "text/plain": "HBox(children=(FigureWidget({\n    'data': [{'boxpoints': 'all',\n              'customdata': array([['001', 'Bu…",
      "application/vnd.jupyter.widget-view+json": {
       "version_major": 2,
       "version_minor": 0,
       "model_id": "d6a8acda85be48bcaca8246472955c93"
      }
     },
     "metadata": {}
    }
   ],
   "source": [
    "fig = go.FigureWidget(data=[\n",
    "        dict(\n",
    "            type = 'box',\n",
    "            x = dfPokemon[\"generation\"],\n",
    "            y = dfPokemon[\"total\"],\n",
    "            customdata = dfPokemon,\n",
    "            hovertemplate ='Pokémon: %{customdata[1]} <br>Status: %{customdata[3]}  <br>Total: %{y} <br>hp: %{customdata[11]} <br>' + \n",
    "                  'attack: %{customdata[12]} <br>defense: %{customdata[13]} <br>spatk: %{customdata[14]} <br>spdef: %{customdata[15]} <br>'+\n",
    "                 'speed: %{customdata[16]}',\n",
    "            boxpoints ='all',\n",
    "            name = ''\n",
    "        )\n",
    "    ],)\n",
    "\n",
    "details = ipyHTML()\n",
    "\n",
    "fig.update_layout(\n",
    "    hoverlabel=dict(\n",
    "        bgcolor=\"white\",\n",
    "        font_size=16,\n",
    "        font_family=\"Rockwell\"\n",
    "    )\n",
    ")\n",
    "\n",
    "boxplot = fig.data[0]\n",
    "\n",
    "image_widget = ipyImage(\n",
    "    value = requests.get(dfPokemon[\"img\"][0]).content,\n",
    "    layout = Layout(border='2px solid black', justify_content = 'center', height='250px', width='250px')\n",
    ")\n",
    "\n",
    "def hover_fn(trace, points, state):\n",
    "    ind = points.point_inds[0]\n",
    "\n",
    "    # Coloca os detalhes do pokémon numa tabela\n",
    "    details.value = dfPokemon.iloc[ind][1:10].to_frame().to_html()\n",
    "\n",
    "    # Atualiza imagem\n",
    "    image_widget.value = requests.get(dfPokemon[\"img\"][ind]).content\n",
    "\n",
    "boxplot.on_hover(hover_fn)\n",
    "\n",
    "vBox = VBox([image_widget, details])\n",
    "vBox.layout = Layout(justify_content = 'center')\n",
    "\n",
    "finalBox = HBox([fig, vBox])\n",
    "finalBox.layout = Layout(justify_content = 'center')\n",
    "\n",
    "display(finalBox)"
   ]
  }
 ]
}